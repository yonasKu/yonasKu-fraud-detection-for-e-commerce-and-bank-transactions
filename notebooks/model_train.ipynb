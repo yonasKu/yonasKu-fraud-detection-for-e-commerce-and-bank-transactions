{
 "cells": [
  {
   "cell_type": "code",
   "execution_count": null,
   "metadata": {},
   "outputs": [],
   "source": []
  },
  {
   "cell_type": "markdown",
   "metadata": {},
   "source": []
  },
  {
   "cell_type": "code",
   "execution_count": 1,
   "metadata": {},
   "outputs": [
    {
     "name": "stderr",
     "output_type": "stream",
     "text": [
      "c:\\Users\\Yonas\\Desktop\\proj\\yonasKu-fraud-detection-for-e-commerce-and-bank-transactions\\myvenv\\Lib\\site-packages\\tqdm\\auto.py:21: TqdmWarning: IProgress not found. Please update jupyter and ipywidgets. See https://ipywidgets.readthedocs.io/en/stable/user_install.html\n",
      "  from .autonotebook import tqdm as notebook_tqdm\n"
     ]
    }
   ],
   "source": [
    "# Import necessary modules\n",
    "import sys\n",
    "sys.path.append('../fraud_detection')  # Adjust this path based on your working directory\n",
    "from utils.logging_util import setup_logger\n",
    "\n",
    "# notebooks/eda_fraud_detection.ipynb\n",
    "\n",
    "# Import the necessary functions from your project\n",
    "# from model_training import prepare_data, train_logistic_regression , train_random_forest , train_gradient_boosting ,train_decision_tree,  train_mlp,train_rnn,train_cnn,train_lstm\n",
    "from model_training import (prepare_data, prepare_credit_card_data,train_logistic_regression, train_random_forest, \n",
    "                            train_gradient_boosting, train_decision_tree,prepare_large_data,train_and_select_best_model )\n",
    "\n",
    "from model_evaluation import evaluate_model\n",
    "\n",
    "from model_explainability import explain_model_shap, explain_model_lime\n"
   ]
  },
  {
   "cell_type": "code",
   "execution_count": null,
   "metadata": {},
   "outputs": [],
   "source": [
    "# data_path = '../data/fraud_datas.csv'\n",
    "# prepared_data = prepare_data(data_path, target_column='fraud_class')\n"
   ]
  },
  {
   "cell_type": "code",
   "execution_count": 5,
   "metadata": {},
   "outputs": [
    {
     "name": "stderr",
     "output_type": "stream",
     "text": [
      "2024-12-06 20:45:14,497 - ../logs/training.log - INFO - Loaded data from ../data/credit_datas.csv\n",
      "2024-12-06 20:45:14,769 - ../logs/training.log - INFO - Data successfully split into training and testing sets.\n",
      "2024-12-06 20:45:15,022 - ../logs/training.log - INFO - Feature scaling applied.\n"
     ]
    }
   ],
   "source": [
    "# Path to the credit card dataset\n",
    "data_path = \"../data/credit_datas.csv\"\n",
    "target_column = \"Class\"  # Target column indicating fraud (1 = Fraud, 0 = Non-Fraud)\n",
    "\n",
    "# Prepare the data for credit card fraud detection\n",
    "credit_data = prepare_credit_card_data(data_path, target_column)"
   ]
  },
  {
   "cell_type": "code",
   "execution_count": 3,
   "metadata": {},
   "outputs": [
    {
     "name": "stderr",
     "output_type": "stream",
     "text": [
      "2024-12-06 20:43:09,964 - ../logs/training.log - INFO - Loaded data from ../data/Fraudlent_Datas.csv\n",
      "2024-12-06 20:43:10,525 - ../logs/training.log - INFO - Calculated 'time_to_purchase' and dropped 'signup_time' and 'purchase_time'.\n",
      "2024-12-06 20:43:10,604 - ../logs/training.log - INFO - Encoded 'country' using frequency encoding.\n",
      "2024-12-06 20:43:10,774 - ../logs/training.log - INFO - Encoded column: source using one-hot encoding.\n",
      "2024-12-06 20:43:10,880 - ../logs/training.log - INFO - Encoded column: browser using one-hot encoding.\n",
      "2024-12-06 20:43:10,983 - ../logs/training.log - INFO - Encoded column: sex using one-hot encoding.\n",
      "2024-12-06 20:43:11,013 - ../logs/training.log - INFO - Dropped irrelevant columns: ['user_id', 'device_id', 'ip_address']\n",
      "2024-12-06 20:43:11,031 - ../logs/training.log - INFO - Features (X) and target (y) defined. Target column: class\n",
      "2024-12-06 20:43:11,110 - ../logs/training.log - INFO - Data split into train and test sets with test size = 0.2.\n",
      "2024-12-06 20:43:11,379 - ../logs/training.log - INFO - Standardized the data.\n"
     ]
    }
   ],
   "source": [
    "data_path = '../data/Fraudlent_Datas.csv'\n",
    "prepared_data = prepare_large_data(data_path, target_column='class')"
   ]
  },
  {
   "cell_type": "code",
   "execution_count": null,
   "metadata": {},
   "outputs": [],
   "source": [
    "\n",
    "\n",
    "# # Accessing the training and testing sets for credit card fraud detection\n",
    "# X_train_credit = credit_data['X_train']\n",
    "# X_test_credit = credit_data['X_test']\n",
    "# y_train_credit = credit_data['y_train']\n",
    "# y_test_credit = credit_data['y_test']\n",
    "# scaler_credit = prepared_data.get('scaler')\n",
    "# # Display confirmation\n",
    "# print(\"Credit card fraud data successfully prepared.\")\n",
    "# print(f\"Training set size: {X_train_credit.shape[0]} samples\")\n",
    "# print(f\"Test set size: {X_test_credit.shape[0]} samples\")\n"
   ]
  },
  {
   "cell_type": "code",
   "execution_count": null,
   "metadata": {},
   "outputs": [],
   "source": [
    "\n",
    "# # Access the prepared data\n",
    "# X_train = prepared_data['X_train']\n",
    "# X_test = prepared_data['X_test']\n",
    "# y_train = prepared_data['y_train']\n",
    "# y_test = prepared_data['y_test']\n",
    "# scaler = prepared_data.get('scaler')\n",
    "\n",
    "# # Display confirmation\n",
    "# print(\"fraud data successfully prepared.\")\n",
    "# print(f\"Training set size: {X_train.shape[0]} samples\")\n",
    "# print(f\"Test set size: {X_test.shape[0]} samples\")"
   ]
  },
  {
   "cell_type": "code",
   "execution_count": null,
   "metadata": {},
   "outputs": [],
   "source": [
    "\n",
    "# Access the prepared data\n",
    "X_train = prepared_data['X_train']\n",
    "X_test = prepared_data['X_test']\n",
    "y_train = prepared_data['y_train']\n",
    "y_test = prepared_data['y_test']\n",
    "scaler = prepared_data.get('scaler')\n",
    "\n",
    "# Display confirmation\n",
    "print(\"Credit card fraud data successfully prepared.\")\n",
    "print(f\"Training set size: {X_train.shape[0]} samples\")\n",
    "print(f\"Test set size: {X_test.shape[0]} samples\")\n",
    "\n",
    "feature_names = prepared_data['feature_names']\n",
    "print(\"Feature names in X_train (before scaling):\")\n",
    "print(feature_names)"
   ]
  },
  {
   "cell_type": "code",
   "execution_count": null,
   "metadata": {},
   "outputs": [],
   "source": [
    "\n",
    "# Train and save the Logistic Regression model and its scaler\n",
    "logistic_model_path = '../models/logistic_regression_model.pkl'\n",
    "logistic_scaler_path = '../models/logistic_regression_scaler.pkl'\n",
    "logistic_results = train_logistic_regression(X_train, X_test, y_train, y_test, logistic_model_path, scaler, logistic_scaler_path)\n",
    "\n",
    "# Train and save the Random Forest model and its scaler\n",
    "random_forest_model_path = '../models/random_forest_model.pkl'\n",
    "random_forest_scaler_path = '../models/random_forest_scaler.pkl'\n",
    "random_forest_results = train_random_forest(X_train, X_test, y_train, y_test, random_forest_model_path, scaler, random_forest_scaler_path)\n",
    "\n",
    "# Display results\n",
    "print(logistic_results)\n",
    "print(random_forest_results)\n"
   ]
  },
  {
   "cell_type": "code",
   "execution_count": 6,
   "metadata": {},
   "outputs": [],
   "source": [
    "from sklearn.linear_model import LogisticRegression\n",
    "from sklearn.tree import DecisionTreeClassifier\n",
    "from sklearn.ensemble import RandomForestClassifier, GradientBoostingClassifier\n",
    "from sklearn.metrics import classification_report, roc_auc_score\n",
    "\n",
    "import joblib"
   ]
  },
  {
   "cell_type": "code",
   "execution_count": 11,
   "metadata": {},
   "outputs": [
    {
     "name": "stderr",
     "output_type": "stream",
     "text": [
      "2024-12-06 21:06:32,495 - ../logs/training.log - INFO - Training model: LogisticRegression\n",
      "2024-12-06 21:06:33,043 - ../logs/training.log - INFO - Training LogisticRegression...\n",
      "2024-12-06 21:06:33,456 - ../logs/training.log - INFO - LogisticRegression training complete.\n",
      "2024/12/06 21:07:13 WARNING mlflow.models.model: Model logged without a signature and input example. Please set `input_example` parameter when logging the model to auto infer the model signature.\n",
      "2024-12-06 21:07:13,795 - ../logs/training.log - INFO - LogisticRegression logged to MLflow.\n",
      "2024-12-06 21:07:13,795 - ../logs/training.log - INFO - Training model: DecisionTree\n",
      "2024-12-06 21:07:13,927 - ../logs/training.log - INFO - Training DecisionTree...\n",
      "2024-12-06 21:07:17,353 - ../logs/training.log - INFO - DecisionTree training complete.\n",
      "2024/12/06 21:07:26 WARNING mlflow.models.model: Model logged without a signature and input example. Please set `input_example` parameter when logging the model to auto infer the model signature.\n",
      "2024-12-06 21:07:26,478 - ../logs/training.log - INFO - DecisionTree logged to MLflow.\n",
      "2024-12-06 21:07:26,494 - ../logs/training.log - INFO - Training model: RandomForest\n",
      "2024-12-06 21:07:26,616 - ../logs/training.log - INFO - Training RandomForest...\n",
      "2024-12-06 21:08:20,678 - ../logs/training.log - INFO - RandomForest training complete.\n",
      "2024/12/06 21:08:30 WARNING mlflow.models.model: Model logged without a signature and input example. Please set `input_example` parameter when logging the model to auto infer the model signature.\n",
      "2024-12-06 21:08:30,265 - ../logs/training.log - INFO - RandomForest logged to MLflow.\n",
      "2024-12-06 21:08:30,284 - ../logs/training.log - INFO - Training model: GradientBoosting\n",
      "2024-12-06 21:08:30,414 - ../logs/training.log - INFO - Training GradientBoosting...\n",
      "2024-12-06 21:09:14,214 - ../logs/training.log - INFO - GradientBoosting training complete.\n",
      "2024/12/06 21:09:22 WARNING mlflow.models.model: Model logged without a signature and input example. Please set `input_example` parameter when logging the model to auto infer the model signature.\n",
      "2024-12-06 21:09:22,459 - ../logs/training.log - INFO - GradientBoosting logged to MLflow.\n",
      "2024-12-06 21:09:22,467 - ../logs/training.log - INFO - Best model: GradientBoosting with ROC-AUC: 0.7809695710030393\n"
     ]
    }
   ],
   "source": [
    "# prepared_data = prepare_credit_card_data(data_path, target_column)\n",
    "X_train, X_test = prepared_data['X_train'], prepared_data['X_test']\n",
    "y_train, y_test = prepared_data['y_train'], prepared_data['y_test']\n",
    "\n",
    "# Define models to train\n",
    "models = {\n",
    "    \"LogisticRegression\": LogisticRegression(max_iter=2000, class_weight=\"balanced\"),\n",
    "    \"DecisionTree\": DecisionTreeClassifier(),\n",
    "    \"RandomForest\": RandomForestClassifier(class_weight=\"balanced\"),\n",
    "    \"GradientBoosting\": GradientBoostingClassifier(n_estimators=100)\n",
    "}\n",
    "\n",
    "# Train models and find the best one\n",
    "best_model_details = train_and_select_best_model(models, X_train, X_test, y_train, y_test)\n",
    "\n",
    "\n"
   ]
  },
  {
   "cell_type": "code",
   "execution_count": 12,
   "metadata": {},
   "outputs": [
    {
     "data": {
      "text/plain": [
       "['../models/best_model.pkl']"
      ]
     },
     "execution_count": 12,
     "metadata": {},
     "output_type": "execute_result"
    }
   ],
   "source": [
    "# # Save the best model locally\n",
    "# joblib.dump(best_model_details[\"model\"], f\"../models/{best_model_details['name']}_best_model.pkl\")\n",
    "# Save the best model locally\n",
    "joblib.dump(best_model_details[\"model\"], f\"../models/best_model.pkl\")"
   ]
  },
  {
   "cell_type": "code",
   "execution_count": 14,
   "metadata": {},
   "outputs": [
    {
     "data": {
      "text/plain": [
       "array([-1.36132847, -0.82760201,  0.        ,  0.        ,  1.14470506,\n",
       "        0.65092866, -0.00774329,  1.14470506, -0.60885306, -0.50240047,\n",
       "        1.21749932,  2.26488288, -0.56556166, -0.15714965, -0.44121088,\n",
       "        0.84387037])"
      ]
     },
     "execution_count": 14,
     "metadata": {},
     "output_type": "execute_result"
    }
   ],
   "source": [
    "X_train[0]"
   ]
  },
  {
   "cell_type": "code",
   "execution_count": 15,
   "metadata": {},
   "outputs": [
    {
     "name": "stderr",
     "output_type": "stream",
     "text": [
      "2024-12-06 21:29:20,774 - ../logs/training.log - INFO - Training model: LogisticRegression\n",
      "2024-12-06 21:29:21,141 - ../logs/training.log - INFO - Training LogisticRegression...\n",
      "2024-12-06 21:29:21,408 - ../logs/training.log - INFO - LogisticRegression training complete.\n",
      "2024/12/06 21:29:34 WARNING mlflow.models.model: Model logged without a signature and input example. Please set `input_example` parameter when logging the model to auto infer the model signature.\n",
      "2024-12-06 21:29:35,141 - ../logs/training.log - INFO - LogisticRegression logged to MLflow.\n",
      "2024-12-06 21:29:35,171 - ../logs/training.log - INFO - Training model: DecisionTree\n",
      "2024-12-06 21:29:35,480 - ../logs/training.log - INFO - Training DecisionTree...\n",
      "2024-12-06 21:29:40,256 - ../logs/training.log - INFO - DecisionTree training complete.\n",
      "2024/12/06 21:29:52 WARNING mlflow.models.model: Model logged without a signature and input example. Please set `input_example` parameter when logging the model to auto infer the model signature.\n",
      "2024-12-06 21:29:53,206 - ../logs/training.log - INFO - DecisionTree logged to MLflow.\n",
      "2024-12-06 21:29:53,224 - ../logs/training.log - INFO - Training model: RandomForest\n",
      "2024-12-06 21:29:53,476 - ../logs/training.log - INFO - Training RandomForest...\n",
      "2024-12-06 21:30:54,376 - ../logs/training.log - INFO - RandomForest training complete.\n",
      "2024/12/06 21:31:15 WARNING mlflow.models.model: Model logged without a signature and input example. Please set `input_example` parameter when logging the model to auto infer the model signature.\n",
      "2024-12-06 21:31:15,537 - ../logs/training.log - INFO - RandomForest logged to MLflow.\n",
      "2024-12-06 21:31:15,546 - ../logs/training.log - INFO - Training model: GradientBoosting\n",
      "2024-12-06 21:31:15,706 - ../logs/training.log - INFO - Training GradientBoosting...\n",
      "2024-12-06 21:32:17,971 - ../logs/training.log - INFO - GradientBoosting training complete.\n",
      "2024/12/06 21:32:27 WARNING mlflow.models.model: Model logged without a signature and input example. Please set `input_example` parameter when logging the model to auto infer the model signature.\n",
      "2024-12-06 21:32:27,201 - ../logs/training.log - INFO - GradientBoosting logged to MLflow.\n",
      "2024-12-06 21:32:27,216 - ../logs/training.log - INFO - Best model: GradientBoosting with ROC-AUC: 0.7809703241661183\n"
     ]
    }
   ],
   "source": [
    "# Access the prepared credit card fraud data\n",
    "X_train_credit = credit_data['X_train']\n",
    "X_test_credit = credit_data['X_test']\n",
    "y_train_credit = credit_data['y_train']\n",
    "y_test_credit = credit_data['y_test']\n",
    "\n",
    "# Define models to train\n",
    "models = {\n",
    "    \"LogisticRegression\": LogisticRegression(max_iter=2000, class_weight=\"balanced\"),\n",
    "    \"DecisionTree\": DecisionTreeClassifier(),\n",
    "    \"RandomForest\": RandomForestClassifier(class_weight=\"balanced\"),\n",
    "    \"GradientBoosting\": GradientBoostingClassifier(n_estimators=100)\n",
    "}\n",
    "\n",
    "# Train models and find the best one\n",
    "best_credit_model_details = train_and_select_best_model(models, X_train, X_test, y_train, y_test)\n",
    "\n",
    "\n"
   ]
  },
  {
   "cell_type": "code",
   "execution_count": 16,
   "metadata": {},
   "outputs": [
    {
     "data": {
      "text/plain": [
       "['../models/best_credit_model.pkl']"
      ]
     },
     "execution_count": 16,
     "metadata": {},
     "output_type": "execute_result"
    }
   ],
   "source": [
    "joblib.dump(best_credit_model_details[\"model\"], f\"../models/best_credit_model.pkl\")"
   ]
  },
  {
   "cell_type": "code",
   "execution_count": null,
   "metadata": {},
   "outputs": [],
   "source": [
    "# Access the prepared credit card fraud data\n",
    "X_train_credit = credit_data['X_train']\n",
    "X_test_credit = credit_data['X_test']\n",
    "y_train_credit = credit_data['y_train']\n",
    "y_test_credit = credit_data['y_test']\n",
    "credit_scaler = credit_data.get('scaler')\n",
    "\n",
    "# Train and save the Logistic Regression model for credit card fraud detection\n",
    "credit_logistic_model_path = '../models/credit_logistic_regression_model.pkl'\n",
    "credit_logistic_scaler_path = '../models/credit_logistic_scaler.pkl'\n",
    "credit_logistic_results = train_logistic_regression(\n",
    "    X_train_credit, X_test_credit, y_train_credit, y_test_credit, \n",
    "    credit_logistic_model_path, credit_scaler, credit_logistic_scaler_path\n",
    ")\n",
    "\n",
    "# Train and save the Random Forest model for credit card fraud detection\n",
    "credit_random_forest_model_path = '../models/credit_random_forest_model.pkl'\n",
    "credit_random_forest_scaler_path = '../models/credit_random_forest_scaler.pkl'\n",
    "credit_random_forest_results = train_random_forest(\n",
    "    X_train_credit, X_test_credit, y_train_credit, y_test_credit, \n",
    "    credit_random_forest_model_path, credit_scaler, credit_random_forest_scaler_path\n",
    ")\n",
    "\n",
    "# Display results for credit card fraud detection models\n",
    "print(\"\\nLogistic Regression Results (Credit Card Fraud):\")\n",
    "print(credit_logistic_results)\n",
    "\n",
    "print(\"\\nRandom Forest Results (Credit Card Fraud):\")\n",
    "print(credit_random_forest_results)"
   ]
  },
  {
   "cell_type": "code",
   "execution_count": null,
   "metadata": {},
   "outputs": [],
   "source": [
    "# Define paths for Decision Tree and Gradient Boosting models and scalers\n",
    "decision_tree_model_path = '../models/decision_tree_model.pkl'\n",
    "decision_tree_scaler_path = '../models/decision_tree_scaler.pkl'\n",
    "\n",
    "gradient_boosting_model_path = '../models/gradient_boosting_model.pkl'\n",
    "gradient_boosting_scaler_path = '../models/gradient_boosting_scaler.pkl'\n",
    "\n",
    "\n",
    "# Train and save the Decision Tree model and its scaler\n",
    "decision_tree_results = train_decision_tree(\n",
    "    X_train, X_test, y_train, y_test, decision_tree_model_path, scaler, decision_tree_scaler_path\n",
    ")\n",
    "\n",
    "# Train and save the Gradient Boosting model and its scaler\n",
    "gradient_boosting_results = train_gradient_boosting(\n",
    "    X_train, X_test, y_train, y_test, gradient_boosting_model_path, scaler, gradient_boosting_scaler_path\n",
    ")\n",
    "\n",
    "# Display results\n",
    "print(\"\\nDecision Tree Model Results:\")\n",
    "print(decision_tree_results)\n",
    "\n",
    "print(\"\\nGradient Boosting Model Results:\")\n",
    "print(gradient_boosting_results)\n"
   ]
  },
  {
   "cell_type": "code",
   "execution_count": null,
   "metadata": {},
   "outputs": [],
   "source": [
    "credit_decision_tree_model_path = '../models/credit_decision_tree_model.pkl'\n",
    "credit_decision_tree_scaler_path = '../models/credit_decision_tree_scaler.pkl'\n",
    "\n",
    "credit_gradient_boosting_model_path = '../models/credit_gradient_boosting_model.pkl'\n",
    "credit_gradient_boosting_scaler_path = '../models/credit_gradient_boosting_scaler.pkl'\n",
    "\n",
    "\n",
    "# Train and save the Decision Tree model for credit card fraud detection\n",
    "credit_decision_tree_results = train_decision_tree(\n",
    "    X_train_credit, X_test_credit, y_train_credit, y_test_credit,\n",
    "    credit_decision_tree_model_path, credit_scaler, credit_decision_tree_scaler_path\n",
    ")\n",
    "\n",
    "# Train and save the Gradient Boosting model for credit card fraud detection\n",
    "credit_gradient_boosting_results = train_gradient_boosting(\n",
    "    X_train_credit, X_test_credit, y_train_credit, y_test_credit,\n",
    "    credit_gradient_boosting_model_path, credit_scaler, credit_gradient_boosting_scaler_path\n",
    ")\n",
    "\n",
    "# Display results for credit card fraud detection models\n",
    "print(\"\\nDecision Tree Model Results (Credit Card Fraud):\")\n",
    "print(credit_decision_tree_results)\n",
    "\n",
    "print(\"\\nGradient Boosting Model Results (Credit Card Fraud):\")\n",
    "print(credit_gradient_boosting_results)"
   ]
  },
  {
   "cell_type": "code",
   "execution_count": null,
   "metadata": {},
   "outputs": [],
   "source": [
    "# Extract the model objects from the training results\n",
    "logistic_model = logistic_results[\"model\"]\n",
    "decision_tree_model = decision_tree_results[\"model\"]\n",
    "random_forest_model = random_forest_results[\"model\"]\n",
    "gradient_boosting_model = gradient_boosting_results[\"model\"]\n",
    "\n",
    "# Evaluate each model\n",
    "logistic_evaluation = evaluate_model(logistic_model, X_test, y_test)\n",
    "decision_tree_evaluation = evaluate_model(decision_tree_model, X_test, y_test)\n",
    "random_forest_evaluation = evaluate_model(random_forest_model, X_test, y_test)\n",
    "gradient_boosting_evaluation = evaluate_model(gradient_boosting_model, X_test, y_test)\n",
    "\n",
    "# Display evaluation results\n",
    "print(\"Logistic Regression Evaluation:\")\n",
    "print(logistic_evaluation)\n",
    "\n",
    "print(\"\\nDecision Tree Evaluation:\")\n",
    "print(decision_tree_evaluation)\n",
    "\n",
    "print(\"\\nRandom Forest Evaluation:\")\n",
    "print(random_forest_evaluation)\n",
    "\n",
    "print(\"\\nGradient Boosting Evaluation:\")\n",
    "print(gradient_boosting_evaluation)"
   ]
  },
  {
   "cell_type": "code",
   "execution_count": null,
   "metadata": {},
   "outputs": [],
   "source": [
    "# Extract the model objects from the training results for credit card fraud detection\n",
    "credit_logistic_model = credit_logistic_results[\"model\"]\n",
    "credit_decision_tree_model = credit_decision_tree_results[\"model\"]\n",
    "credit_random_forest_model = credit_random_forest_results[\"model\"]\n",
    "credit_gradient_boosting_model = credit_gradient_boosting_results[\"model\"]\n",
    "\n",
    "# Evaluate each credit card fraud detection model\n",
    "credit_logistic_evaluation = evaluate_model(credit_logistic_model, X_test_credit, y_test_credit)\n",
    "credit_decision_tree_evaluation = evaluate_model(credit_decision_tree_model, X_test_credit, y_test_credit)\n",
    "credit_random_forest_evaluation = evaluate_model(credit_random_forest_model, X_test_credit, y_test_credit)\n",
    "credit_gradient_boosting_evaluation = evaluate_model(credit_gradient_boosting_model, X_test_credit, y_test_credit)\n",
    "\n",
    "# Display evaluation results for credit card fraud detection models\n",
    "print(\"Logistic Regression Evaluation (Credit Card Fraud):\")\n",
    "print(credit_logistic_evaluation)\n",
    "\n",
    "print(\"\\nDecision Tree Evaluation (Credit Card Fraud):\")\n",
    "print(credit_decision_tree_evaluation)\n",
    "\n",
    "print(\"\\nRandom Forest Evaluation (Credit Card Fraud):\")\n",
    "print(credit_random_forest_evaluation)\n",
    "\n",
    "print(\"\\nGradient Boosting Evaluation (Credit Card Fraud):\")\n",
    "print(credit_gradient_boosting_evaluation)\n"
   ]
  },
  {
   "cell_type": "code",
   "execution_count": null,
   "metadata": {},
   "outputs": [],
   "source": [
    "# Explaining Logistic Regression Model\n",
    "print(\"Explaining Logistic Regression Model:\")\n",
    "\n",
    "# SHAP explanation for Logistic Regression\n",
    "logistic_shap_values = explain_model_shap(logistic_model, X_train, X_test, model_type='lr')\n",
    "\n",
    "# LIME explanation for Logistic Regression\n",
    "print(\"LIME explanation for Logistic Regression:\")\n",
    "explanation_lime_lr = explain_model_lime(logistic_model, X_train, X_test, idx=0)\n",
    "\n",
    "\n",
    "# Explaining Decision Tree Model\n",
    "print(\"Explaining Decision Tree Model:\")\n",
    "\n",
    "# SHAP explanation for Decision Tree\n",
    "decision_tree_shap_values = explain_model_shap(decision_tree_model, X_train, X_test, model_type='rf')\n",
    "\n",
    "# LIME explanation for Decision Tree\n",
    "print(\"LIME explanation for Decision Tree:\")\n",
    "explanation_lime_dt = explain_model_lime(decision_tree_model, X_train, X_test, idx=0)\n",
    "\n",
    "\n",
    "# Explaining Random Forest Model\n",
    "print(\"Explaining Random Forest Model:\")\n",
    "\n",
    "# SHAP explanation for Random Forest\n",
    "random_forest_shap_values = explain_model_shap(random_forest_model, X_train, X_test, model_type='rf')\n",
    "\n",
    "# LIME explanation for Random Forest\n",
    "print(\"LIME explanation for Random Forest:\")\n",
    "explanation_lime_rf = explain_model_lime(random_forest_model, X_train, X_test, idx=0)\n",
    "\n",
    "\n",
    "# Explaining Gradient Boosting Model\n",
    "print(\"Explaining Gradient Boosting Model:\")\n",
    "\n",
    "# SHAP explanation for Gradient Boosting\n",
    "gradient_boosting_shap_values = explain_model_shap(gradient_boosting_model, X_train, X_test, model_type='rf')\n",
    "\n",
    "# LIME explanation for Gradient Boosting\n",
    "print(\"LIME explanation for Gradient Boosting:\")\n",
    "explanation_lime_gb = explain_model_lime(gradient_boosting_model, X_train, X_test, idx=0)\n"
   ]
  },
  {
   "cell_type": "code",
   "execution_count": null,
   "metadata": {},
   "outputs": [],
   "source": [
    "print(X_train.shape)  # Output will be in the form (num_samples, num_features)\n"
   ]
  },
  {
   "cell_type": "code",
   "execution_count": null,
   "metadata": {},
   "outputs": [],
   "source": [
    "# Explaining Logistic Regression Model (Credit Card Fraud)\n",
    "print(\"Explaining Logistic Regression Model (Credit Card Fraud):\")\n",
    "\n",
    "# SHAP explanation for Logistic Regression\n",
    "credit_logistic_shap_values = explain_model_shap(\n",
    "    credit_logistic_model, X_train_credit, X_test_credit, model_type='lr'\n",
    ")\n",
    "\n",
    "# LIME explanation for Logistic Regression\n",
    "print(\"LIME Explanation for Logistic Regression (Credit Card Fraud):\")\n",
    "credit_explanation_lime_lr = explain_model_lime(\n",
    "    credit_logistic_model, X_train_credit, X_test_credit, idx=0\n",
    ")\n",
    "\n",
    "\n",
    "# Explaining Decision Tree Model (Credit Card Fraud)\n",
    "print(\"Explaining Decision Tree Model (Credit Card Fraud):\")\n",
    "\n",
    "# SHAP explanation for Decision Tree\n",
    "credit_decision_tree_shap_values = explain_model_shap(\n",
    "    credit_decision_tree_model, X_train_credit, X_test_credit, model_type='rf'\n",
    ")\n",
    "\n",
    "# LIME explanation for Decision Tree\n",
    "print(\"LIME Explanation for Decision Tree (Credit Card Fraud):\")\n",
    "credit_explanation_lime_dt = explain_model_lime(\n",
    "    credit_decision_tree_model, X_train_credit, X_test_credit, idx=0\n",
    ")\n",
    "\n",
    "\n",
    "# Explaining Random Forest Model (Credit Card Fraud)\n",
    "print(\"Explaining Random Forest Model (Credit Card Fraud):\")\n",
    "\n",
    "# SHAP explanation for Random Forest\n",
    "credit_random_forest_shap_values = explain_model_shap(\n",
    "    credit_random_forest_model, X_train_credit, X_test_credit, model_type='rf'\n",
    ")\n",
    "\n",
    "# LIME explanation for Random Forest\n",
    "print(\"LIME Explanation for Random Forest (Credit Card Fraud):\")\n",
    "credit_explanation_lime_rf = explain_model_lime(\n",
    "    credit_random_forest_model, X_train_credit, X_test_credit, idx=0\n",
    ")\n",
    "\n",
    "\n",
    "# Explaining Gradient Boosting Model (Credit Card Fraud)\n",
    "print(\"Explaining Gradient Boosting Model (Credit Card Fraud):\")\n",
    "\n",
    "# SHAP explanation for Gradient Boosting\n",
    "credit_gradient_boosting_shap_values = explain_model_shap(\n",
    "    credit_gradient_boosting_model, X_train_credit, X_test_credit, model_type='rf'\n",
    ")\n",
    "\n",
    "# LIME explanation for Gradient Boosting\n",
    "print(\"LIME Explanation for Gradient Boosting (Credit Card Fraud):\")\n",
    "credit_explanation_lime_gb = explain_model_lime(\n",
    "    credit_gradient_boosting_model, X_train_credit, X_test_credit, idx=0\n",
    ")\n"
   ]
  },
  {
   "cell_type": "code",
   "execution_count": null,
   "metadata": {},
   "outputs": [],
   "source": [
    "\n",
    "# # Define file paths for saving models\n",
    "# mlp_model_path = '../models/mlp_model.h5'\n",
    "# rnn_model_path = '../models/rnn_model.h5'\n",
    "# cnn_model_path = '../models/cnn_model.h5'\n",
    "# lstm_model_path = '../models/lstm_model.h5'\n",
    "\n",
    "# # Train and save the MLP model\n",
    "# print(\"Training MLP model...\")\n",
    "# mlp_model, mlp_history = train_mlp(X_train, X_test, y_train, y_test, mlp_model_path)\n",
    "# print(\"\\nMLP Model Training History:\")\n",
    "# print(mlp_history)\n",
    "\n",
    "\n",
    "\n",
    "# # Train and save the LSTM model\n",
    "# print(\"\\nTraining LSTM model...\")\n",
    "# lstm_model, lstm_history = train_lstm(X_train, X_test, y_train, y_test, lstm_model_path)\n",
    "# print(\"\\nLSTM Model Training History:\")\n",
    "# print(lstm_history)"
   ]
  },
  {
   "cell_type": "code",
   "execution_count": null,
   "metadata": {},
   "outputs": [],
   "source": [
    "# # Train and save the CNN model\n",
    "# print(\"\\nTraining CNN model...\")\n",
    "# cnn_model, cnn_history = train_cnn(X_train, X_test, y_train, y_test, cnn_model_path)\n",
    "# print(\"\\nCNN Model Training History:\")\n",
    "# print(cnn_history)\n",
    "\n",
    "# # Train and save the RNN model\n",
    "# print(\"\\nTraining RNN model...\")\n",
    "# rnn_model, rnn_history = train_rnn(X_train, X_test, y_train, y_test, rnn_model_path)\n",
    "# print(\"\\nRNN Model Training History:\")\n",
    "# print(rnn_history)"
   ]
  },
  {
   "cell_type": "code",
   "execution_count": null,
   "metadata": {},
   "outputs": [],
   "source": [
    "# # Evaluate the MLP, RNN, and LSTM models\n",
    "# mlp_evaluation = evaluate_model(mlp_model, X_test, y_test)\n",
    "# rnn_evaluation = evaluate_model(rnn_model, X_test, y_test)\n",
    "# lstm_evaluation = evaluate_model(lstm_model, X_test, y_test)\n",
    "\n",
    "# # Display evaluation results\n",
    "# print(\"\\nMLP Model Evaluation:\")\n",
    "# print(mlp_evaluation)\n",
    "\n",
    "# print(\"\\nRNN Model Evaluation:\")\n",
    "# print(rnn_evaluation)\n",
    "\n",
    "# print(\"\\nLSTM Model Evaluation:\")\n",
    "# print(lstm_evaluation)\n"
   ]
  },
  {
   "cell_type": "code",
   "execution_count": null,
   "metadata": {},
   "outputs": [],
   "source": [
    "# # Paths to the saved models\n",
    "# mlp_model_path = '../models/mlp_model.h5'\n",
    "# rnn_model_path = '../models/rnn_model.h5'\n",
    "# cnn_model_path = '../models/cnn_model.h5'\n",
    "# lstm_model_path = '../models/lstm_model.h5'\n",
    "\n",
    "# # Load the saved models\n",
    "# mlp_model = load_model(mlp_model_path)\n",
    "# rnn_model = load_model(rnn_model_path)\n",
    "# cnn_model = load_model(cnn_model_path)\n",
    "# lstm_model = load_model(lstm_model_path)\n",
    "\n",
    "# # Test the models and evaluate them\n",
    "# print(\"Evaluating MLP model...\")\n",
    "# mlp_evaluation = evaluate_model(mlp_model, X_test, y_test)\n",
    "# print(\"MLP Model Evaluation:\", mlp_evaluation)\n",
    "\n",
    "# print(\"\\nEvaluating RNN model...\")\n",
    "# rnn_evaluation = evaluate_model(rnn_model, X_test, y_test)\n",
    "# print(\"RNN Model Evaluation:\", rnn_evaluation)\n",
    "\n",
    "# print(\"\\nEvaluating CNN model...\")\n",
    "# cnn_evaluation = evaluate_model(cnn_model, X_test, y_test)\n",
    "# print(\"CNN Model Evaluation:\", cnn_evaluation)\n",
    "\n",
    "# print(\"\\nEvaluating LSTM model...\")\n",
    "# lstm_evaluation = evaluate_model(lstm_model, X_test, y_test)\n",
    "# print(\"LSTM Model Evaluation:\", lstm_evaluation)"
   ]
  }
 ],
 "metadata": {
  "kernelspec": {
   "display_name": "myvenv",
   "language": "python",
   "name": "python3"
  },
  "language_info": {
   "codemirror_mode": {
    "name": "ipython",
    "version": 3
   },
   "file_extension": ".py",
   "mimetype": "text/x-python",
   "name": "python",
   "nbconvert_exporter": "python",
   "pygments_lexer": "ipython3",
   "version": "3.12.5"
  }
 },
 "nbformat": 4,
 "nbformat_minor": 2
}
