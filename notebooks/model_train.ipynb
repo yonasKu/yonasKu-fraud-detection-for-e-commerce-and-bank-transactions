{
 "cells": [
  {
   "cell_type": "code",
   "execution_count": null,
   "metadata": {},
   "outputs": [],
   "source": []
  },
  {
   "cell_type": "markdown",
   "metadata": {},
   "source": []
  },
  {
   "cell_type": "code",
   "execution_count": 1,
   "metadata": {},
   "outputs": [
    {
     "name": "stderr",
     "output_type": "stream",
     "text": [
      "c:\\Users\\Akram 1\\Desktop\\New folder (2)\\fraud-detection-for-e-commercand-bank-transactions\\myvenv\\Lib\\site-packages\\tqdm\\auto.py:21: TqdmWarning: IProgress not found. Please update jupyter and ipywidgets. See https://ipywidgets.readthedocs.io/en/stable/user_install.html\n",
      "  from .autonotebook import tqdm as notebook_tqdm\n"
     ]
    },
    {
     "ename": "ModuleNotFoundError",
     "evalue": "No module named 'lime'",
     "output_type": "error",
     "traceback": [
      "\u001b[1;31m---------------------------------------------------------------------------\u001b[0m",
      "\u001b[1;31mModuleNotFoundError\u001b[0m                       Traceback (most recent call last)",
      "Cell \u001b[1;32mIn[1], line 15\u001b[0m\n\u001b[0;32m     10\u001b[0m \u001b[38;5;28;01mfrom\u001b[39;00m \u001b[38;5;21;01mmodel_training\u001b[39;00m \u001b[38;5;28;01mimport\u001b[39;00m (prepare_data, train_logistic_regression, train_random_forest, \n\u001b[0;32m     11\u001b[0m                             train_gradient_boosting, train_decision_tree, )\n\u001b[0;32m     13\u001b[0m \u001b[38;5;28;01mfrom\u001b[39;00m \u001b[38;5;21;01mmodel_evaluation\u001b[39;00m \u001b[38;5;28;01mimport\u001b[39;00m evaluate_model\n\u001b[1;32m---> 15\u001b[0m \u001b[38;5;28;01mfrom\u001b[39;00m \u001b[38;5;21;01mmodel_explainability\u001b[39;00m \u001b[38;5;28;01mimport\u001b[39;00m explain_model_shap, explain_model_lime\n",
      "File \u001b[1;32mc:\\Users\\Akram 1\\Desktop\\New folder (2)\\fraud-detection-for-e-commercand-bank-transactions\\notebooks\\../fraud_detection\\model_explainability.py:3\u001b[0m\n\u001b[0;32m      1\u001b[0m \u001b[38;5;28;01mimport\u001b[39;00m \u001b[38;5;21;01mshap\u001b[39;00m\n\u001b[0;32m      2\u001b[0m \u001b[38;5;28;01mfrom\u001b[39;00m \u001b[38;5;21;01mutils\u001b[39;00m\u001b[38;5;21;01m.\u001b[39;00m\u001b[38;5;21;01mlogging_util\u001b[39;00m \u001b[38;5;28;01mimport\u001b[39;00m setup_logger\n\u001b[1;32m----> 3\u001b[0m \u001b[38;5;28;01mimport\u001b[39;00m \u001b[38;5;21;01mlime\u001b[39;00m\n\u001b[0;32m      4\u001b[0m \u001b[38;5;28;01mimport\u001b[39;00m \u001b[38;5;21;01mlime\u001b[39;00m\u001b[38;5;21;01m.\u001b[39;00m\u001b[38;5;21;01mlime_tabular\u001b[39;00m\n\u001b[0;32m      5\u001b[0m \u001b[38;5;28;01mimport\u001b[39;00m \u001b[38;5;21;01mnumpy\u001b[39;00m \u001b[38;5;28;01mas\u001b[39;00m \u001b[38;5;21;01mnp\u001b[39;00m\n",
      "\u001b[1;31mModuleNotFoundError\u001b[0m: No module named 'lime'"
     ]
    }
   ],
   "source": [
    "# Import necessary modules\n",
    "import sys\n",
    "sys.path.append('../fraud_detection')  # Adjust this path based on your working directory\n",
    "from utils.logging_util import setup_logger\n",
    "\n",
    "# notebooks/eda_fraud_detection.ipynb\n",
    "\n",
    "# Import the necessary functions from your project\n",
    "# from model_training import prepare_data, train_logistic_regression , train_random_forest , train_gradient_boosting ,train_decision_tree,  train_mlp,train_rnn,train_cnn,train_lstm\n",
    "from model_training import (prepare_data, train_logistic_regression, train_random_forest, \n",
    "                            train_gradient_boosting, train_decision_tree, )\n",
    "\n",
    "from model_evaluation import evaluate_model\n",
    "\n",
    "from model_explainability import explain_model_shap, explain_model_lime\n"
   ]
  },
  {
   "cell_type": "code",
   "execution_count": 2,
   "metadata": {},
   "outputs": [
    {
     "name": "stderr",
     "output_type": "stream",
     "text": [
      "2024-11-16 10:50:33,846 - root - INFO - Loaded data from ../data/fraud_datas.csv\n",
      "2024-11-16 10:50:33,846 - root - INFO - Loaded data from ../data/fraud_datas.csv\n",
      "2024-11-16 10:50:34,731 - root - INFO - Encoded column: device_id\n",
      "2024-11-16 10:50:34,731 - root - INFO - Encoded column: device_id\n",
      "2024-11-16 10:50:34,761 - root - INFO - Encoded column: source\n",
      "2024-11-16 10:50:34,761 - root - INFO - Encoded column: source\n",
      "2024-11-16 10:50:34,791 - root - INFO - Encoded column: browser\n",
      "2024-11-16 10:50:34,791 - root - INFO - Encoded column: browser\n",
      "2024-11-16 10:50:34,830 - root - INFO - Encoded column: sex\n",
      "2024-11-16 10:50:34,830 - root - INFO - Encoded column: sex\n",
      "2024-11-16 10:50:34,864 - root - INFO - Data successfully split into train and test sets.\n",
      "2024-11-16 10:50:34,864 - root - INFO - Data successfully split into train and test sets.\n",
      "2024-11-16 10:50:34,917 - root - INFO - Standardized the data.\n",
      "2024-11-16 10:50:34,917 - root - INFO - Standardized the data.\n"
     ]
    }
   ],
   "source": [
    "data_path = '../data/fraud_datas.csv'\n",
    "prepared_data = prepare_data(data_path, target_column='fraud_class')"
   ]
  },
  {
   "cell_type": "code",
   "execution_count": 3,
   "metadata": {},
   "outputs": [],
   "source": [
    "\n",
    "# Access the prepared data\n",
    "X_train = prepared_data['X_train']\n",
    "X_test = prepared_data['X_test']\n",
    "y_train = prepared_data['y_train']\n",
    "y_test = prepared_data['y_test']\n",
    "\n"
   ]
  },
  {
   "cell_type": "code",
   "execution_count": 4,
   "metadata": {},
   "outputs": [
    {
     "name": "stderr",
     "output_type": "stream",
     "text": [
      "2024-11-16 10:50:34,949 - root - INFO - Training model: LogisticRegression.\n",
      "2024-11-16 10:50:34,949 - root - INFO - Training model: LogisticRegression.\n",
      "2024-11-16 10:50:35,060 - root - INFO - Model saved to ../models/logistic_regression_model.pkl.\n",
      "2024-11-16 10:50:35,060 - root - INFO - Model saved to ../models/logistic_regression_model.pkl.\n",
      "2024-11-16 10:50:35,096 - root - INFO - Model training and evaluation completed successfully.\n",
      "2024-11-16 10:50:35,096 - root - INFO - Model training and evaluation completed successfully.\n",
      "2024-11-16 10:50:35,109 - root - INFO - Training model: RandomForestClassifier.\n",
      "2024-11-16 10:50:35,109 - root - INFO - Training model: RandomForestClassifier.\n",
      "2024-11-16 10:51:40,228 - root - INFO - Model saved to ../models/random_forest_model.pkl.\n",
      "2024-11-16 10:51:40,228 - root - INFO - Model saved to ../models/random_forest_model.pkl.\n",
      "2024-11-16 10:51:42,178 - root - INFO - Model training and evaluation completed successfully.\n",
      "2024-11-16 10:51:42,178 - root - INFO - Model training and evaluation completed successfully.\n"
     ]
    },
    {
     "name": "stdout",
     "output_type": "stream",
     "text": [
      "{'model': LogisticRegression(class_weight='balanced', max_iter=2000), 'training_time': 0.10924530029296875, 'roc_auc': np.float64(0.7580767576706717), 'report': '              precision    recall  f1-score   support\\n\\n           0       0.95      0.64      0.77     27373\\n           1       0.17      0.70      0.27      2850\\n\\n    accuracy                           0.65     30223\\n   macro avg       0.56      0.67      0.52     30223\\nweighted avg       0.88      0.65      0.72     30223\\n'}\n",
      "{'model': RandomForestClassifier(class_weight='balanced'), 'training_time': 64.9885323047638, 'roc_auc': np.float64(0.7684386586603139), 'report': '              precision    recall  f1-score   support\\n\\n           0       0.95      1.00      0.98     27373\\n           1       1.00      0.54      0.70      2850\\n\\n    accuracy                           0.96     30223\\n   macro avg       0.98      0.77      0.84     30223\\nweighted avg       0.96      0.96      0.95     30223\\n'}\n"
     ]
    }
   ],
   "source": [
    "# Train and save the Logistic Regression model\n",
    "logistic_model_path = '../models/logistic_regression_model.pkl'\n",
    "logistic_results = train_logistic_regression(X_train, X_test, y_train, y_test, logistic_model_path)\n",
    "\n",
    "# Train and save the Random Forest model\n",
    "random_forest_model_path = '../models/random_forest_model.pkl'\n",
    "random_forest_results = train_random_forest(X_train, X_test, y_train, y_test, random_forest_model_path)\n",
    "\n",
    "# Display results\n",
    "print(logistic_results)\n",
    "print(random_forest_results)"
   ]
  },
  {
   "cell_type": "code",
   "execution_count": 5,
   "metadata": {},
   "outputs": [
    {
     "name": "stderr",
     "output_type": "stream",
     "text": [
      "2024-11-16 10:51:42,189 - root - INFO - Training model: DecisionTreeClassifier.\n",
      "2024-11-16 10:51:42,189 - root - INFO - Training model: DecisionTreeClassifier.\n",
      "2024-11-16 10:51:46,515 - root - INFO - Model saved to ../models/decision_tree_model.pkl.\n",
      "2024-11-16 10:51:46,515 - root - INFO - Model saved to ../models/decision_tree_model.pkl.\n",
      "2024-11-16 10:51:46,583 - root - INFO - Model training and evaluation completed successfully.\n",
      "2024-11-16 10:51:46,583 - root - INFO - Model training and evaluation completed successfully.\n",
      "2024-11-16 10:51:46,586 - root - INFO - Training model: GradientBoostingClassifier.\n",
      "2024-11-16 10:51:46,586 - root - INFO - Training model: GradientBoostingClassifier.\n",
      "2024-11-16 10:52:35,717 - root - INFO - Model saved to ../models/gradient_boosting_model.pkl.\n",
      "2024-11-16 10:52:35,717 - root - INFO - Model saved to ../models/gradient_boosting_model.pkl.\n",
      "2024-11-16 10:52:35,847 - root - INFO - Model training and evaluation completed successfully.\n",
      "2024-11-16 10:52:35,847 - root - INFO - Model training and evaluation completed successfully.\n"
     ]
    },
    {
     "name": "stdout",
     "output_type": "stream",
     "text": [
      "\n",
      "Decision Tree Model Results:\n",
      "{'model': DecisionTreeClassifier(), 'training_time': 4.3170325756073, 'roc_auc': np.float64(0.7542642096418483), 'report': '              precision    recall  f1-score   support\\n\\n           0       0.95      0.94      0.95     27373\\n           1       0.51      0.57      0.54      2850\\n\\n    accuracy                           0.91     30223\\n   macro avg       0.73      0.75      0.74     30223\\nweighted avg       0.91      0.91      0.91     30223\\n'}\n",
      "\n",
      "Gradient Boosting Model Results:\n",
      "{'model': GradientBoostingClassifier(), 'training_time': 49.1263210773468, 'roc_auc': np.float64(0.7743352618568303), 'report': '              precision    recall  f1-score   support\\n\\n           0       0.95      1.00      0.98     27373\\n           1       1.00      0.54      0.70      2850\\n\\n    accuracy                           0.96     30223\\n   macro avg       0.98      0.77      0.84     30223\\nweighted avg       0.96      0.96      0.95     30223\\n'}\n"
     ]
    }
   ],
   "source": [
    "# # Import necessary functions\n",
    "# from fraud_detection.model_training import train_logistic_regression, train_decision_tree, train_random_forest, train_gradient_boosting\n",
    "\n",
    "\n",
    "decision_tree_model_path = '../models/decision_tree_model.pkl'\n",
    "\n",
    "gradient_boosting_model_path = '../models/gradient_boosting_model.pkl'\n",
    "\n",
    "\n",
    "# Train and save the Decision Tree model\n",
    "decision_tree_results = train_decision_tree(X_train, X_test, y_train, y_test, decision_tree_model_path)\n",
    "\n",
    "\n",
    "# Train and save the Gradient Boosting model\n",
    "gradient_boosting_results = train_gradient_boosting(X_train, X_test, y_train, y_test, gradient_boosting_model_path)\n",
    "\n",
    "# Display results for all models\n",
    "\n",
    "print(\"\\nDecision Tree Model Results:\")\n",
    "print(decision_tree_results)\n",
    "\n",
    "print(\"\\nGradient Boosting Model Results:\")\n",
    "print(gradient_boosting_results)\n"
   ]
  },
  {
   "cell_type": "code",
   "execution_count": 6,
   "metadata": {},
   "outputs": [
    {
     "name": "stderr",
     "output_type": "stream",
     "text": [
      "2024-11-16 10:52:35,886 - root - INFO - Evaluation metrics for LogisticRegression:\n",
      "2024-11-16 10:52:35,886 - root - INFO - Evaluation metrics for LogisticRegression:\n",
      "2024-11-16 10:52:35,901 - root - INFO - Accuracy: 0.6482480230288191\n",
      "2024-11-16 10:52:35,901 - root - INFO - Accuracy: 0.6482480230288191\n",
      "2024-11-16 10:52:35,901 - root - INFO - Precision: 0.16937197246536925\n",
      "2024-11-16 10:52:35,901 - root - INFO - Precision: 0.16937197246536925\n",
      "2024-11-16 10:52:35,901 - root - INFO - Recall: 0.6992982456140351\n"
     ]
    },
    {
     "name": "stderr",
     "output_type": "stream",
     "text": [
      "2024-11-16 10:52:35,901 - root - INFO - Recall: 0.6992982456140351\n",
      "2024-11-16 10:52:35,901 - root - INFO - F1 Score: 0.27269617568584525\n",
      "2024-11-16 10:52:35,901 - root - INFO - F1 Score: 0.27269617568584525\n",
      "2024-11-16 10:52:35,901 - root - INFO - ROC AUC: 0.7580767576706717\n",
      "2024-11-16 10:52:35,901 - root - INFO - ROC AUC: 0.7580767576706717\n",
      "2024-11-16 10:52:35,917 - root - INFO - Confusion Matrix: \n",
      "[[17599  9774]\n",
      " [  857  1993]]\n",
      "2024-11-16 10:52:35,917 - root - INFO - Confusion Matrix: \n",
      "[[17599  9774]\n",
      " [  857  1993]]\n",
      "2024-11-16 10:52:35,964 - root - INFO - Evaluation metrics for DecisionTreeClassifier:\n",
      "2024-11-16 10:52:35,964 - root - INFO - Evaluation metrics for DecisionTreeClassifier:\n",
      "2024-11-16 10:52:35,964 - root - INFO - Accuracy: 0.907620024484664\n",
      "2024-11-16 10:52:35,964 - root - INFO - Accuracy: 0.907620024484664\n",
      "2024-11-16 10:52:35,964 - root - INFO - Precision: 0.5091656131479141\n",
      "2024-11-16 10:52:35,964 - root - INFO - Precision: 0.5091656131479141\n",
      "2024-11-16 10:52:35,964 - root - INFO - Recall: 0.5652631578947368\n",
      "2024-11-16 10:52:35,964 - root - INFO - Recall: 0.5652631578947368\n",
      "2024-11-16 10:52:35,979 - root - INFO - F1 Score: 0.5357499168606584\n",
      "2024-11-16 10:52:35,979 - root - INFO - F1 Score: 0.5357499168606584\n",
      "2024-11-16 10:52:35,979 - root - INFO - ROC AUC: 0.7542642096418483\n",
      "2024-11-16 10:52:35,979 - root - INFO - ROC AUC: 0.7542642096418483\n",
      "2024-11-16 10:52:35,979 - root - INFO - Confusion Matrix: \n",
      "[[25820  1553]\n",
      " [ 1239  1611]]\n",
      "2024-11-16 10:52:35,979 - root - INFO - Confusion Matrix: \n",
      "[[25820  1553]\n",
      " [ 1239  1611]]\n",
      "2024-11-16 10:52:37,663 - root - INFO - Evaluation metrics for RandomForestClassifier:\n",
      "2024-11-16 10:52:37,663 - root - INFO - Evaluation metrics for RandomForestClassifier:\n",
      "2024-11-16 10:52:37,664 - root - INFO - Accuracy: 0.9564239155609966\n",
      "2024-11-16 10:52:37,664 - root - INFO - Accuracy: 0.9564239155609966\n",
      "2024-11-16 10:52:37,666 - root - INFO - Precision: 1.0\n",
      "2024-11-16 10:52:37,666 - root - INFO - Precision: 1.0\n",
      "2024-11-16 10:52:37,668 - root - INFO - Recall: 0.5378947368421053\n",
      "2024-11-16 10:52:37,668 - root - INFO - Recall: 0.5378947368421053\n",
      "2024-11-16 10:52:37,669 - root - INFO - F1 Score: 0.6995208761122519\n",
      "2024-11-16 10:52:37,669 - root - INFO - F1 Score: 0.6995208761122519\n",
      "2024-11-16 10:52:37,671 - root - INFO - ROC AUC: 0.7684386586603139\n",
      "2024-11-16 10:52:37,671 - root - INFO - ROC AUC: 0.7684386586603139\n",
      "2024-11-16 10:52:37,672 - root - INFO - Confusion Matrix: \n",
      "[[27373     0]\n",
      " [ 1317  1533]]\n",
      "2024-11-16 10:52:37,672 - root - INFO - Confusion Matrix: \n",
      "[[27373     0]\n",
      " [ 1317  1533]]\n",
      "2024-11-16 10:52:37,787 - root - INFO - Evaluation metrics for GradientBoostingClassifier:\n",
      "2024-11-16 10:52:37,787 - root - INFO - Evaluation metrics for GradientBoostingClassifier:\n",
      "2024-11-16 10:52:37,792 - root - INFO - Accuracy: 0.9564239155609966\n",
      "2024-11-16 10:52:37,792 - root - INFO - Accuracy: 0.9564239155609966\n",
      "2024-11-16 10:52:37,793 - root - INFO - Precision: 1.0\n",
      "2024-11-16 10:52:37,793 - root - INFO - Precision: 1.0\n",
      "2024-11-16 10:52:37,795 - root - INFO - Recall: 0.5378947368421053\n",
      "2024-11-16 10:52:37,795 - root - INFO - Recall: 0.5378947368421053\n",
      "2024-11-16 10:52:37,796 - root - INFO - F1 Score: 0.6995208761122519\n",
      "2024-11-16 10:52:37,796 - root - INFO - F1 Score: 0.6995208761122519\n",
      "2024-11-16 10:52:37,798 - root - INFO - ROC AUC: 0.7743352618568303\n",
      "2024-11-16 10:52:37,798 - root - INFO - ROC AUC: 0.7743352618568303\n",
      "2024-11-16 10:52:37,799 - root - INFO - Confusion Matrix: \n",
      "[[27373     0]\n",
      " [ 1317  1533]]\n",
      "2024-11-16 10:52:37,799 - root - INFO - Confusion Matrix: \n",
      "[[27373     0]\n",
      " [ 1317  1533]]\n"
     ]
    },
    {
     "name": "stdout",
     "output_type": "stream",
     "text": [
      "Logistic Regression Evaluation:\n",
      "{'accuracy': 0.6482480230288191, 'precision': np.float64(0.16937197246536925), 'recall': np.float64(0.6992982456140351), 'f1': np.float64(0.27269617568584525), 'roc_auc': np.float64(0.7580767576706717), 'confusion_matrix': array([[17599,  9774],\n",
      "       [  857,  1993]])}\n",
      "\n",
      "Decision Tree Evaluation:\n",
      "{'accuracy': 0.907620024484664, 'precision': np.float64(0.5091656131479141), 'recall': np.float64(0.5652631578947368), 'f1': np.float64(0.5357499168606584), 'roc_auc': np.float64(0.7542642096418483), 'confusion_matrix': array([[25820,  1553],\n",
      "       [ 1239,  1611]])}\n",
      "\n",
      "Random Forest Evaluation:\n",
      "{'accuracy': 0.9564239155609966, 'precision': np.float64(1.0), 'recall': np.float64(0.5378947368421053), 'f1': np.float64(0.6995208761122519), 'roc_auc': np.float64(0.7684386586603139), 'confusion_matrix': array([[27373,     0],\n",
      "       [ 1317,  1533]])}\n",
      "\n",
      "Gradient Boosting Evaluation:\n",
      "{'accuracy': 0.9564239155609966, 'precision': np.float64(1.0), 'recall': np.float64(0.5378947368421053), 'f1': np.float64(0.6995208761122519), 'roc_auc': np.float64(0.7743352618568303), 'confusion_matrix': array([[27373,     0],\n",
      "       [ 1317,  1533]])}\n"
     ]
    }
   ],
   "source": [
    "# Extract the model objects from the training results\n",
    "logistic_model = logistic_results[\"model\"]\n",
    "decision_tree_model = decision_tree_results[\"model\"]\n",
    "random_forest_model = random_forest_results[\"model\"]\n",
    "gradient_boosting_model = gradient_boosting_results[\"model\"]\n",
    "\n",
    "# Evaluate each model\n",
    "logistic_evaluation = evaluate_model(logistic_model, X_test, y_test)\n",
    "decision_tree_evaluation = evaluate_model(decision_tree_model, X_test, y_test)\n",
    "random_forest_evaluation = evaluate_model(random_forest_model, X_test, y_test)\n",
    "gradient_boosting_evaluation = evaluate_model(gradient_boosting_model, X_test, y_test)\n",
    "\n",
    "# Display evaluation results\n",
    "print(\"Logistic Regression Evaluation:\")\n",
    "print(logistic_evaluation)\n",
    "\n",
    "print(\"\\nDecision Tree Evaluation:\")\n",
    "print(decision_tree_evaluation)\n",
    "\n",
    "print(\"\\nRandom Forest Evaluation:\")\n",
    "print(random_forest_evaluation)\n",
    "\n",
    "print(\"\\nGradient Boosting Evaluation:\")\n",
    "print(gradient_boosting_evaluation)"
   ]
  },
  {
   "cell_type": "code",
   "execution_count": null,
   "metadata": {},
   "outputs": [
    {
     "name": "stderr",
     "output_type": "stream",
     "text": [
      "2024-11-16 10:54:11,028 - shap - WARNING - Using 120889 background data samples could cause slower run times. Consider using shap.sample(data, K) or shap.kmeans(data, K) to summarize the background as K samples.\n",
      "2024-11-16 10:54:11,028 - shap - WARNING - Using 120889 background data samples could cause slower run times. Consider using shap.sample(data, K) or shap.kmeans(data, K) to summarize the background as K samples.\n"
     ]
    },
    {
     "name": "stdout",
     "output_type": "stream",
     "text": [
      "Explaining Logistic Regression Model:\n"
     ]
    },
    {
     "name": "stderr",
     "output_type": "stream",
     "text": [
      "  0%|          | 0/120889 [00:00<?, ?it/s]2024-11-16 10:54:32,123 - shap - INFO - num_full_subsets = 4\n",
      "2024-11-16 10:54:32,123 - shap - INFO - num_full_subsets = 4\n",
      "2024-11-16 10:57:13,332 - shap - INFO - phi = array([ 7.29921760e-04, -2.35778344e-04,  3.60621584e-04, -9.30823425e-07,\n",
      "        2.00153212e-03, -4.54948722e-03,  3.13262739e-04,  4.07591440e-03,\n",
      "        2.32483036e-01])\n",
      "2024-11-16 10:57:13,332 - shap - INFO - phi = array([ 7.29921760e-04, -2.35778344e-04,  3.60621584e-04, -9.30823425e-07,\n",
      "        2.00153212e-03, -4.54948722e-03,  3.13262739e-04,  4.07591440e-03,\n",
      "        2.32483036e-01])\n",
      "2024-11-16 10:57:13,348 - shap - INFO - phi = array([-7.29921760e-04,  2.35778344e-04, -3.60621584e-04,  9.30823399e-07,\n",
      "       -2.00153212e-03,  4.54948722e-03, -3.13262739e-04, -4.07591440e-03,\n",
      "       -2.32483036e-01])\n",
      "2024-11-16 10:57:13,348 - shap - INFO - phi = array([-7.29921760e-04,  2.35778344e-04, -3.60621584e-04,  9.30823399e-07,\n",
      "       -2.00153212e-03,  4.54948722e-03, -3.13262739e-04, -4.07591440e-03,\n",
      "       -2.32483036e-01])\n",
      "  0%|          | 1/120889 [03:02<6122:04:23, 182.31s/it]2024-11-16 10:57:34,153 - shap - INFO - num_full_subsets = 4\n",
      "2024-11-16 10:57:34,153 - shap - INFO - num_full_subsets = 4\n",
      "2024-11-16 11:00:15,664 - shap - INFO - phi = array([ 0.00121773,  0.00083096, -0.00047616,  0.00570251,  0.00990886,\n",
      "       -0.00548633, -0.00122713, -0.00119962, -0.20652741])\n",
      "2024-11-16 11:00:15,664 - shap - INFO - phi = array([ 0.00121773,  0.00083096, -0.00047616,  0.00570251,  0.00990886,\n",
      "       -0.00548633, -0.00122713, -0.00119962, -0.20652741])\n",
      "2024-11-16 11:00:15,664 - shap - INFO - phi = array([-0.00121773, -0.00083096,  0.00047616, -0.00570251, -0.00990886,\n",
      "        0.00548633,  0.00122713,  0.00119962,  0.20652741])\n",
      "2024-11-16 11:00:15,664 - shap - INFO - phi = array([-0.00121773, -0.00083096,  0.00047616, -0.00570251, -0.00990886,\n",
      "        0.00548633,  0.00122713,  0.00119962,  0.20652741])\n",
      "  0%|          | 2/120889 [06:04<6122:04:42, 182.31s/it]2024-11-16 11:00:41,496 - shap - INFO - num_full_subsets = 4\n",
      "2024-11-16 11:00:41,496 - shap - INFO - num_full_subsets = 4\n",
      "2024-11-16 11:03:36,451 - shap - INFO - phi = array([ 0.0003639 ,  0.00374542, -0.00086529, -0.00569469, -0.00513181,\n",
      "        0.00763814, -0.00342743, -0.0011881 ,  0.08328654])\n",
      "2024-11-16 11:03:36,451 - shap - INFO - phi = array([ 0.0003639 ,  0.00374542, -0.00086529, -0.00569469, -0.00513181,\n",
      "        0.00763814, -0.00342743, -0.0011881 ,  0.08328654])\n",
      "2024-11-16 11:03:36,451 - shap - INFO - phi = array([-0.0003639 , -0.00374542,  0.00086529,  0.00569469,  0.00513181,\n",
      "       -0.00763814,  0.00342743,  0.0011881 , -0.08328654])\n",
      "2024-11-16 11:03:36,451 - shap - INFO - phi = array([-0.0003639 , -0.00374542,  0.00086529,  0.00569469,  0.00513181,\n",
      "       -0.00763814,  0.00342743,  0.0011881 , -0.08328654])\n",
      "  0%|          | 3/120889 [09:25<6405:16:02, 190.75s/it]2024-11-16 11:04:07,587 - shap - INFO - num_full_subsets = 4\n",
      "2024-11-16 11:04:07,587 - shap - INFO - num_full_subsets = 4\n",
      "  0%|          | 3/120889 [10:03<6750:39:45, 201.04s/it]\n"
     ]
    },
    {
     "ename": "KeyboardInterrupt",
     "evalue": "",
     "output_type": "error",
     "traceback": [
      "\u001b[1;31m---------------------------------------------------------------------------\u001b[0m",
      "\u001b[1;31mKeyboardInterrupt\u001b[0m                         Traceback (most recent call last)",
      "Cell \u001b[1;32mIn[11], line 3\u001b[0m\n\u001b[0;32m      1\u001b[0m \u001b[38;5;66;03m# Logistic Regression Model\u001b[39;00m\n\u001b[0;32m      2\u001b[0m \u001b[38;5;28mprint\u001b[39m(\u001b[38;5;124m\"\u001b[39m\u001b[38;5;124mExplaining Logistic Regression Model:\u001b[39m\u001b[38;5;124m\"\u001b[39m)\n\u001b[1;32m----> 3\u001b[0m logistic_shap_values \u001b[38;5;241m=\u001b[39m \u001b[43mexplain_model\u001b[49m\u001b[43m(\u001b[49m\u001b[43mlogistic_model\u001b[49m\u001b[43m,\u001b[49m\u001b[43m \u001b[49m\u001b[43mX_train\u001b[49m\u001b[43m,\u001b[49m\u001b[43m \u001b[49m\u001b[43mmodel_type\u001b[49m\u001b[38;5;241;43m=\u001b[39;49m\u001b[38;5;124;43m'\u001b[39;49m\u001b[38;5;124;43mlr\u001b[39;49m\u001b[38;5;124;43m'\u001b[39;49m\u001b[43m)\u001b[49m\n\u001b[0;32m      5\u001b[0m \u001b[38;5;66;03m# Decision Tree Model\u001b[39;00m\n\u001b[0;32m      6\u001b[0m \u001b[38;5;28mprint\u001b[39m(\u001b[38;5;124m\"\u001b[39m\u001b[38;5;124mExplaining Decision Tree Model:\u001b[39m\u001b[38;5;124m\"\u001b[39m)\n",
      "File \u001b[1;32mc:\\Users\\Akram 1\\Desktop\\New folder (2)\\fraud-detection-for-e-commercand-bank-transactions\\notebooks\\../fraud_detection\\model_explainability.py:21\u001b[0m, in \u001b[0;36mexplain_model\u001b[1;34m(model, X_train, model_type)\u001b[0m\n\u001b[0;32m     19\u001b[0m     logger\u001b[38;5;241m.\u001b[39minfo(\u001b[38;5;124m\"\u001b[39m\u001b[38;5;124mUsing TreeExplainer for Random Forest model.\u001b[39m\u001b[38;5;124m\"\u001b[39m)\n\u001b[0;32m     20\u001b[0m \u001b[38;5;28;01melif\u001b[39;00m model_type \u001b[38;5;241m==\u001b[39m \u001b[38;5;124m'\u001b[39m\u001b[38;5;124mxgboost\u001b[39m\u001b[38;5;124m'\u001b[39m:\n\u001b[1;32m---> 21\u001b[0m     explainer \u001b[38;5;241m=\u001b[39m shap\u001b[38;5;241m.\u001b[39mTreeExplainer(model)\n\u001b[0;32m     22\u001b[0m     logger\u001b[38;5;241m.\u001b[39minfo(\u001b[38;5;124m\"\u001b[39m\u001b[38;5;124mUsing TreeExplainer for XGBoost model.\u001b[39m\u001b[38;5;124m\"\u001b[39m)\n\u001b[0;32m     23\u001b[0m \u001b[38;5;28;01melif\u001b[39;00m model_type \u001b[38;5;241m==\u001b[39m \u001b[38;5;124m'\u001b[39m\u001b[38;5;124mlr\u001b[39m\u001b[38;5;124m'\u001b[39m:\n",
      "File \u001b[1;32mc:\\Users\\Akram 1\\Desktop\\New folder (2)\\fraud-detection-for-e-commercand-bank-transactions\\myvenv\\Lib\\site-packages\\shap\\explainers\\_kernel.py:271\u001b[0m, in \u001b[0;36mKernelExplainer.shap_values\u001b[1;34m(self, X, **kwargs)\u001b[0m\n\u001b[0;32m    269\u001b[0m \u001b[38;5;28;01mif\u001b[39;00m \u001b[38;5;28mself\u001b[39m\u001b[38;5;241m.\u001b[39mkeep_index:\n\u001b[0;32m    270\u001b[0m     data \u001b[38;5;241m=\u001b[39m convert_to_instance_with_index(data, column_name, index_value[i:i \u001b[38;5;241m+\u001b[39m \u001b[38;5;241m1\u001b[39m], index_name)\n\u001b[1;32m--> 271\u001b[0m explanations\u001b[38;5;241m.\u001b[39mappend(\u001b[38;5;28;43mself\u001b[39;49m\u001b[38;5;241;43m.\u001b[39;49m\u001b[43mexplain\u001b[49m\u001b[43m(\u001b[49m\u001b[43mdata\u001b[49m\u001b[43m,\u001b[49m\u001b[43m \u001b[49m\u001b[38;5;241;43m*\u001b[39;49m\u001b[38;5;241;43m*\u001b[39;49m\u001b[43mkwargs\u001b[49m\u001b[43m)\u001b[49m)\n\u001b[0;32m    272\u001b[0m \u001b[38;5;28;01mif\u001b[39;00m kwargs\u001b[38;5;241m.\u001b[39mget(\u001b[38;5;124m\"\u001b[39m\u001b[38;5;124mgc_collect\u001b[39m\u001b[38;5;124m\"\u001b[39m, \u001b[38;5;28;01mFalse\u001b[39;00m):\n\u001b[0;32m    273\u001b[0m     gc\u001b[38;5;241m.\u001b[39mcollect()\n",
      "File \u001b[1;32mc:\\Users\\Akram 1\\Desktop\\New folder (2)\\fraud-detection-for-e-commercand-bank-transactions\\myvenv\\Lib\\site-packages\\shap\\explainers\\_kernel.py:476\u001b[0m, in \u001b[0;36mKernelExplainer.explain\u001b[1;34m(self, incoming_instance, **kwargs)\u001b[0m\n\u001b[0;32m    473\u001b[0m     \u001b[38;5;28mself\u001b[39m\u001b[38;5;241m.\u001b[39mkernelWeights[nfixed_samples:] \u001b[38;5;241m*\u001b[39m\u001b[38;5;241m=\u001b[39m weight_left \u001b[38;5;241m/\u001b[39m \u001b[38;5;28mself\u001b[39m\u001b[38;5;241m.\u001b[39mkernelWeights[nfixed_samples:]\u001b[38;5;241m.\u001b[39msum()\n\u001b[0;32m    475\u001b[0m \u001b[38;5;66;03m# execute the model on the synthetic samples we have created\u001b[39;00m\n\u001b[1;32m--> 476\u001b[0m \u001b[38;5;28;43mself\u001b[39;49m\u001b[38;5;241;43m.\u001b[39;49m\u001b[43mrun\u001b[49m\u001b[43m(\u001b[49m\u001b[43m)\u001b[49m\n\u001b[0;32m    478\u001b[0m \u001b[38;5;66;03m# solve then expand the feature importance (Shapley value) vector to contain the non-varying features\u001b[39;00m\n\u001b[0;32m    479\u001b[0m phi \u001b[38;5;241m=\u001b[39m np\u001b[38;5;241m.\u001b[39mzeros((\u001b[38;5;28mself\u001b[39m\u001b[38;5;241m.\u001b[39mdata\u001b[38;5;241m.\u001b[39mgroups_size, \u001b[38;5;28mself\u001b[39m\u001b[38;5;241m.\u001b[39mD))\n",
      "File \u001b[1;32mc:\\Users\\Akram 1\\Desktop\\New folder (2)\\fraud-detection-for-e-commercand-bank-transactions\\myvenv\\Lib\\site-packages\\shap\\explainers\\_kernel.py:615\u001b[0m, in \u001b[0;36mKernelExplainer.run\u001b[1;34m(self)\u001b[0m\n\u001b[0;32m    613\u001b[0m     \u001b[38;5;28;01mif\u001b[39;00m \u001b[38;5;28mself\u001b[39m\u001b[38;5;241m.\u001b[39mkeep_index_ordered:\n\u001b[0;32m    614\u001b[0m         data \u001b[38;5;241m=\u001b[39m data\u001b[38;5;241m.\u001b[39msort_index()\n\u001b[1;32m--> 615\u001b[0m modelOut \u001b[38;5;241m=\u001b[39m \u001b[38;5;28;43mself\u001b[39;49m\u001b[38;5;241;43m.\u001b[39;49m\u001b[43mmodel\u001b[49m\u001b[38;5;241;43m.\u001b[39;49m\u001b[43mf\u001b[49m\u001b[43m(\u001b[49m\u001b[43mdata\u001b[49m\u001b[43m)\u001b[49m\n\u001b[0;32m    616\u001b[0m \u001b[38;5;28;01mif\u001b[39;00m \u001b[38;5;28misinstance\u001b[39m(modelOut, (pd\u001b[38;5;241m.\u001b[39mDataFrame, pd\u001b[38;5;241m.\u001b[39mSeries)):\n\u001b[0;32m    617\u001b[0m     modelOut \u001b[38;5;241m=\u001b[39m modelOut\u001b[38;5;241m.\u001b[39mvalues\n",
      "File \u001b[1;32mc:\\Users\\Akram 1\\Desktop\\New folder (2)\\fraud-detection-for-e-commercand-bank-transactions\\myvenv\\Lib\\site-packages\\sklearn\\linear_model\\_logistic.py:1431\u001b[0m, in \u001b[0;36mLogisticRegression.predict_proba\u001b[1;34m(self, X)\u001b[0m\n\u001b[0;32m   1423\u001b[0m ovr \u001b[38;5;241m=\u001b[39m \u001b[38;5;28mself\u001b[39m\u001b[38;5;241m.\u001b[39mmulti_class \u001b[38;5;129;01min\u001b[39;00m [\u001b[38;5;124m\"\u001b[39m\u001b[38;5;124movr\u001b[39m\u001b[38;5;124m\"\u001b[39m, \u001b[38;5;124m\"\u001b[39m\u001b[38;5;124mwarn\u001b[39m\u001b[38;5;124m\"\u001b[39m] \u001b[38;5;129;01mor\u001b[39;00m (\n\u001b[0;32m   1424\u001b[0m     \u001b[38;5;28mself\u001b[39m\u001b[38;5;241m.\u001b[39mmulti_class \u001b[38;5;129;01min\u001b[39;00m [\u001b[38;5;124m\"\u001b[39m\u001b[38;5;124mauto\u001b[39m\u001b[38;5;124m\"\u001b[39m, \u001b[38;5;124m\"\u001b[39m\u001b[38;5;124mdeprecated\u001b[39m\u001b[38;5;124m\"\u001b[39m]\n\u001b[0;32m   1425\u001b[0m     \u001b[38;5;129;01mand\u001b[39;00m (\n\u001b[1;32m   (...)\u001b[0m\n\u001b[0;32m   1428\u001b[0m     )\n\u001b[0;32m   1429\u001b[0m )\n\u001b[0;32m   1430\u001b[0m \u001b[38;5;28;01mif\u001b[39;00m ovr:\n\u001b[1;32m-> 1431\u001b[0m     \u001b[38;5;28;01mreturn\u001b[39;00m \u001b[38;5;28;43msuper\u001b[39;49m\u001b[43m(\u001b[49m\u001b[43m)\u001b[49m\u001b[38;5;241;43m.\u001b[39;49m\u001b[43m_predict_proba_lr\u001b[49m\u001b[43m(\u001b[49m\u001b[43mX\u001b[49m\u001b[43m)\u001b[49m\n\u001b[0;32m   1432\u001b[0m \u001b[38;5;28;01melse\u001b[39;00m:\n\u001b[0;32m   1433\u001b[0m     decision \u001b[38;5;241m=\u001b[39m \u001b[38;5;28mself\u001b[39m\u001b[38;5;241m.\u001b[39mdecision_function(X)\n",
      "File \u001b[1;32mc:\\Users\\Akram 1\\Desktop\\New folder (2)\\fraud-detection-for-e-commercand-bank-transactions\\myvenv\\Lib\\site-packages\\sklearn\\linear_model\\_base.py:398\u001b[0m, in \u001b[0;36mLinearClassifierMixin._predict_proba_lr\u001b[1;34m(self, X)\u001b[0m\n\u001b[0;32m    391\u001b[0m \u001b[38;5;250m\u001b[39m\u001b[38;5;124;03m\"\"\"Probability estimation for OvR logistic regression.\u001b[39;00m\n\u001b[0;32m    392\u001b[0m \n\u001b[0;32m    393\u001b[0m \u001b[38;5;124;03mPositive class probabilities are computed as\u001b[39;00m\n\u001b[0;32m    394\u001b[0m \u001b[38;5;124;03m1. / (1. + np.exp(-self.decision_function(X)));\u001b[39;00m\n\u001b[0;32m    395\u001b[0m \u001b[38;5;124;03mmulticlass is handled by normalizing that over all classes.\u001b[39;00m\n\u001b[0;32m    396\u001b[0m \u001b[38;5;124;03m\"\"\"\u001b[39;00m\n\u001b[0;32m    397\u001b[0m prob \u001b[38;5;241m=\u001b[39m \u001b[38;5;28mself\u001b[39m\u001b[38;5;241m.\u001b[39mdecision_function(X)\n\u001b[1;32m--> 398\u001b[0m \u001b[43mexpit\u001b[49m\u001b[43m(\u001b[49m\u001b[43mprob\u001b[49m\u001b[43m,\u001b[49m\u001b[43m \u001b[49m\u001b[43mout\u001b[49m\u001b[38;5;241;43m=\u001b[39;49m\u001b[43mprob\u001b[49m\u001b[43m)\u001b[49m\n\u001b[0;32m    399\u001b[0m \u001b[38;5;28;01mif\u001b[39;00m prob\u001b[38;5;241m.\u001b[39mndim \u001b[38;5;241m==\u001b[39m \u001b[38;5;241m1\u001b[39m:\n\u001b[0;32m    400\u001b[0m     \u001b[38;5;28;01mreturn\u001b[39;00m np\u001b[38;5;241m.\u001b[39mvstack([\u001b[38;5;241m1\u001b[39m \u001b[38;5;241m-\u001b[39m prob, prob])\u001b[38;5;241m.\u001b[39mT\n",
      "\u001b[1;31mKeyboardInterrupt\u001b[0m: "
     ]
    }
   ],
   "source": [
    "# Explaining Logistic Regression Model\n",
    "print(\"Explaining Logistic Regression Model:\")\n",
    "\n",
    "# SHAP explanation for Logistic Regression\n",
    "logistic_shap_values = explain_model_shap(logistic_model, X_train, X_test, model_type='lr')\n",
    "\n",
    "# LIME explanation for Logistic Regression\n",
    "print(\"LIME explanation for Logistic Regression:\")\n",
    "explanation_lime_lr = explain_model_lime(logistic_model, X_train, X_test, idx=0)\n",
    "\n",
    "\n",
    "# Explaining Decision Tree Model\n",
    "print(\"Explaining Decision Tree Model:\")\n",
    "\n",
    "# SHAP explanation for Decision Tree\n",
    "decision_tree_shap_values = explain_model_shap(decision_tree_model, X_train, X_test, model_type='rf')\n",
    "\n",
    "# LIME explanation for Decision Tree\n",
    "print(\"LIME explanation for Decision Tree:\")\n",
    "explanation_lime_dt = explain_model_lime(decision_tree_model, X_train, X_test, idx=0)\n",
    "\n",
    "\n",
    "# Explaining Random Forest Model\n",
    "print(\"Explaining Random Forest Model:\")\n",
    "\n",
    "# SHAP explanation for Random Forest\n",
    "random_forest_shap_values = explain_model_shap(random_forest_model, X_train, X_test, model_type='rf')\n",
    "\n",
    "# LIME explanation for Random Forest\n",
    "print(\"LIME explanation for Random Forest:\")\n",
    "explanation_lime_rf = explain_model_lime(random_forest_model, X_train, X_test, idx=0)\n",
    "\n",
    "\n",
    "# Explaining Gradient Boosting Model\n",
    "print(\"Explaining Gradient Boosting Model:\")\n",
    "\n",
    "# SHAP explanation for Gradient Boosting\n",
    "gradient_boosting_shap_values = explain_model_shap(gradient_boosting_model, X_train, X_test, model_type='rf')\n",
    "\n",
    "# LIME explanation for Gradient Boosting\n",
    "print(\"LIME explanation for Gradient Boosting:\")\n",
    "explanation_lime_gb = explain_model_lime(gradient_boosting_model, X_train, X_test, idx=0)\n"
   ]
  },
  {
   "cell_type": "code",
   "execution_count": 7,
   "metadata": {},
   "outputs": [],
   "source": [
    "\n",
    "# # Define file paths for saving models\n",
    "# mlp_model_path = '../models/mlp_model.h5'\n",
    "# rnn_model_path = '../models/rnn_model.h5'\n",
    "# cnn_model_path = '../models/cnn_model.h5'\n",
    "# lstm_model_path = '../models/lstm_model.h5'\n",
    "\n",
    "# # Train and save the MLP model\n",
    "# print(\"Training MLP model...\")\n",
    "# mlp_model, mlp_history = train_mlp(X_train, X_test, y_train, y_test, mlp_model_path)\n",
    "# print(\"\\nMLP Model Training History:\")\n",
    "# print(mlp_history)\n",
    "\n",
    "\n",
    "\n",
    "# # Train and save the LSTM model\n",
    "# print(\"\\nTraining LSTM model...\")\n",
    "# lstm_model, lstm_history = train_lstm(X_train, X_test, y_train, y_test, lstm_model_path)\n",
    "# print(\"\\nLSTM Model Training History:\")\n",
    "# print(lstm_history)"
   ]
  },
  {
   "cell_type": "code",
   "execution_count": 8,
   "metadata": {},
   "outputs": [],
   "source": [
    "# # Train and save the CNN model\n",
    "# print(\"\\nTraining CNN model...\")\n",
    "# cnn_model, cnn_history = train_cnn(X_train, X_test, y_train, y_test, cnn_model_path)\n",
    "# print(\"\\nCNN Model Training History:\")\n",
    "# print(cnn_history)\n",
    "\n",
    "# # Train and save the RNN model\n",
    "# print(\"\\nTraining RNN model...\")\n",
    "# rnn_model, rnn_history = train_rnn(X_train, X_test, y_train, y_test, rnn_model_path)\n",
    "# print(\"\\nRNN Model Training History:\")\n",
    "# print(rnn_history)"
   ]
  },
  {
   "cell_type": "code",
   "execution_count": 9,
   "metadata": {},
   "outputs": [],
   "source": [
    "# # Evaluate the MLP, RNN, and LSTM models\n",
    "# mlp_evaluation = evaluate_model(mlp_model, X_test, y_test)\n",
    "# rnn_evaluation = evaluate_model(rnn_model, X_test, y_test)\n",
    "# lstm_evaluation = evaluate_model(lstm_model, X_test, y_test)\n",
    "\n",
    "# # Display evaluation results\n",
    "# print(\"\\nMLP Model Evaluation:\")\n",
    "# print(mlp_evaluation)\n",
    "\n",
    "# print(\"\\nRNN Model Evaluation:\")\n",
    "# print(rnn_evaluation)\n",
    "\n",
    "# print(\"\\nLSTM Model Evaluation:\")\n",
    "# print(lstm_evaluation)\n"
   ]
  },
  {
   "cell_type": "code",
   "execution_count": 10,
   "metadata": {},
   "outputs": [],
   "source": [
    "# # Paths to the saved models\n",
    "# mlp_model_path = '../models/mlp_model.h5'\n",
    "# rnn_model_path = '../models/rnn_model.h5'\n",
    "# cnn_model_path = '../models/cnn_model.h5'\n",
    "# lstm_model_path = '../models/lstm_model.h5'\n",
    "\n",
    "# # Load the saved models\n",
    "# mlp_model = load_model(mlp_model_path)\n",
    "# rnn_model = load_model(rnn_model_path)\n",
    "# cnn_model = load_model(cnn_model_path)\n",
    "# lstm_model = load_model(lstm_model_path)\n",
    "\n",
    "# # Test the models and evaluate them\n",
    "# print(\"Evaluating MLP model...\")\n",
    "# mlp_evaluation = evaluate_model(mlp_model, X_test, y_test)\n",
    "# print(\"MLP Model Evaluation:\", mlp_evaluation)\n",
    "\n",
    "# print(\"\\nEvaluating RNN model...\")\n",
    "# rnn_evaluation = evaluate_model(rnn_model, X_test, y_test)\n",
    "# print(\"RNN Model Evaluation:\", rnn_evaluation)\n",
    "\n",
    "# print(\"\\nEvaluating CNN model...\")\n",
    "# cnn_evaluation = evaluate_model(cnn_model, X_test, y_test)\n",
    "# print(\"CNN Model Evaluation:\", cnn_evaluation)\n",
    "\n",
    "# print(\"\\nEvaluating LSTM model...\")\n",
    "# lstm_evaluation = evaluate_model(lstm_model, X_test, y_test)\n",
    "# print(\"LSTM Model Evaluation:\", lstm_evaluation)"
   ]
  }
 ],
 "metadata": {
  "kernelspec": {
   "display_name": "myvenv",
   "language": "python",
   "name": "python3"
  },
  "language_info": {
   "codemirror_mode": {
    "name": "ipython",
    "version": 3
   },
   "file_extension": ".py",
   "mimetype": "text/x-python",
   "name": "python",
   "nbconvert_exporter": "python",
   "pygments_lexer": "ipython3",
   "version": "3.12.3"
  }
 },
 "nbformat": 4,
 "nbformat_minor": 2
}
