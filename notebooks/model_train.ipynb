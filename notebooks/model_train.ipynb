{
 "cells": [
  {
   "cell_type": "code",
   "execution_count": null,
   "metadata": {},
   "outputs": [],
   "source": []
  },
  {
   "cell_type": "markdown",
   "metadata": {},
   "source": []
  },
  {
   "cell_type": "code",
   "execution_count": 1,
   "metadata": {},
   "outputs": [],
   "source": [
    "# Import necessary modules\n",
    "import sys\n",
    "sys.path.append('../fraud_detection')  # Adjust this path based on your working directory\n",
    "from utils.logging_util import setup_logger\n",
    "\n",
    "# notebooks/eda_fraud_detection.ipynb\n",
    "\n",
    "# Import the necessary functions from your project\n",
    "from model_training import prepare_data, train_logistic_regression , train_random_forest , train_gradient_boosting ,train_decision_tree\n",
    "\n",
    "from model_evaluation import evaluate_model\n",
    "\n",
    "\n"
   ]
  },
  {
   "cell_type": "code",
   "execution_count": 2,
   "metadata": {},
   "outputs": [
    {
     "name": "stderr",
     "output_type": "stream",
     "text": [
      "2024-11-15 16:32:57,048 - root - INFO - Loaded data from ../data/fraud_datas.csv\n",
      "2024-11-15 16:32:57,048 - root - INFO - Loaded data from ../data/fraud_datas.csv\n",
      "2024-11-15 16:32:58,050 - root - INFO - Encoded column: device_id\n",
      "2024-11-15 16:32:58,050 - root - INFO - Encoded column: device_id\n",
      "2024-11-15 16:32:58,091 - root - INFO - Encoded column: source\n",
      "2024-11-15 16:32:58,091 - root - INFO - Encoded column: source\n",
      "2024-11-15 16:32:58,127 - root - INFO - Encoded column: browser\n",
      "2024-11-15 16:32:58,127 - root - INFO - Encoded column: browser\n",
      "2024-11-15 16:32:58,162 - root - INFO - Encoded column: sex\n",
      "2024-11-15 16:32:58,162 - root - INFO - Encoded column: sex\n",
      "2024-11-15 16:32:58,210 - root - INFO - Data successfully split into train and test sets.\n",
      "2024-11-15 16:32:58,210 - root - INFO - Data successfully split into train and test sets.\n",
      "2024-11-15 16:32:58,259 - root - INFO - Standardized the data.\n",
      "2024-11-15 16:32:58,259 - root - INFO - Standardized the data.\n"
     ]
    }
   ],
   "source": [
    "data_path = '../data/fraud_datas.csv'\n",
    "prepared_data = prepare_data(data_path, target_column='fraud_class')"
   ]
  },
  {
   "cell_type": "code",
   "execution_count": 3,
   "metadata": {},
   "outputs": [],
   "source": [
    "\n",
    "# Access the prepared data\n",
    "X_train = prepared_data['X_train']\n",
    "X_test = prepared_data['X_test']\n",
    "y_train = prepared_data['y_train']\n",
    "y_test = prepared_data['y_test']\n",
    "\n"
   ]
  },
  {
   "cell_type": "code",
   "execution_count": 5,
   "metadata": {},
   "outputs": [
    {
     "name": "stderr",
     "output_type": "stream",
     "text": [
      "2024-11-15 16:41:33,718 - root - INFO - Training model: LogisticRegression.\n",
      "2024-11-15 16:41:33,718 - root - INFO - Training model: LogisticRegression.\n",
      "2024-11-15 16:41:33,857 - root - INFO - Model saved to ../models/logistic_regression_model.pkl.\n",
      "2024-11-15 16:41:33,857 - root - INFO - Model saved to ../models/logistic_regression_model.pkl.\n",
      "2024-11-15 16:41:33,897 - root - INFO - Model training and evaluation completed successfully.\n",
      "2024-11-15 16:41:33,897 - root - INFO - Model training and evaluation completed successfully.\n",
      "2024-11-15 16:41:33,899 - root - INFO - Training model: RandomForestClassifier.\n",
      "2024-11-15 16:41:33,899 - root - INFO - Training model: RandomForestClassifier.\n",
      "2024-11-15 16:42:41,692 - root - INFO - Model saved to ../models/random_forest_model.pkl.\n",
      "2024-11-15 16:42:41,692 - root - INFO - Model saved to ../models/random_forest_model.pkl.\n",
      "2024-11-15 16:42:43,473 - root - INFO - Model training and evaluation completed successfully.\n",
      "2024-11-15 16:42:43,473 - root - INFO - Model training and evaluation completed successfully.\n"
     ]
    },
    {
     "name": "stdout",
     "output_type": "stream",
     "text": [
      "{'model': LogisticRegression(class_weight='balanced', max_iter=2000), 'training_time': 0.13431000709533691, 'roc_auc': np.float64(0.7580767576706717), 'report': '              precision    recall  f1-score   support\\n\\n           0       0.95      0.64      0.77     27373\\n           1       0.17      0.70      0.27      2850\\n\\n    accuracy                           0.65     30223\\n   macro avg       0.56      0.67      0.52     30223\\nweighted avg       0.88      0.65      0.72     30223\\n'}\n",
      "{'model': RandomForestClassifier(class_weight='balanced'), 'training_time': 67.59041357040405, 'roc_auc': np.float64(0.7651919710868886), 'report': '              precision    recall  f1-score   support\\n\\n           0       0.95      1.00      0.98     27373\\n           1       1.00      0.54      0.70      2850\\n\\n    accuracy                           0.96     30223\\n   macro avg       0.98      0.77      0.84     30223\\nweighted avg       0.96      0.96      0.95     30223\\n'}\n"
     ]
    }
   ],
   "source": [
    "# Train and save the Logistic Regression model\n",
    "logistic_model_path = '../models/logistic_regression_model.pkl'\n",
    "logistic_results = train_logistic_regression(X_train, X_test, y_train, y_test, logistic_model_path)\n",
    "\n",
    "# Train and save the Random Forest model\n",
    "random_forest_model_path = '../models/random_forest_model.pkl'\n",
    "random_forest_results = train_random_forest(X_train, X_test, y_train, y_test, random_forest_model_path)\n",
    "\n",
    "# Display results\n",
    "print(logistic_results)\n",
    "print(random_forest_results)"
   ]
  },
  {
   "cell_type": "code",
   "execution_count": 6,
   "metadata": {},
   "outputs": [
    {
     "name": "stderr",
     "output_type": "stream",
     "text": [
      "2024-11-15 16:42:43,502 - root - INFO - Training model: DecisionTreeClassifier.\n",
      "2024-11-15 16:42:43,502 - root - INFO - Training model: DecisionTreeClassifier.\n",
      "2024-11-15 16:42:47,580 - root - INFO - Model saved to ../models/decision_tree_model.pkl.\n",
      "2024-11-15 16:42:47,580 - root - INFO - Model saved to ../models/decision_tree_model.pkl.\n",
      "2024-11-15 16:42:47,639 - root - INFO - Model training and evaluation completed successfully.\n",
      "2024-11-15 16:42:47,639 - root - INFO - Model training and evaluation completed successfully.\n",
      "2024-11-15 16:42:47,641 - root - INFO - Training model: GradientBoostingClassifier.\n",
      "2024-11-15 16:42:47,641 - root - INFO - Training model: GradientBoostingClassifier.\n",
      "2024-11-15 16:43:38,363 - root - INFO - Model saved to ../models/gradient_boosting_model.pkl.\n",
      "2024-11-15 16:43:38,363 - root - INFO - Model saved to ../models/gradient_boosting_model.pkl.\n",
      "2024-11-15 16:43:38,479 - root - INFO - Model training and evaluation completed successfully.\n",
      "2024-11-15 16:43:38,479 - root - INFO - Model training and evaluation completed successfully.\n"
     ]
    },
    {
     "name": "stdout",
     "output_type": "stream",
     "text": [
      "\n",
      "Decision Tree Model Results:\n",
      "{'model': DecisionTreeClassifier(), 'training_time': 4.070529937744141, 'roc_auc': np.float64(0.7533836133826328), 'report': '              precision    recall  f1-score   support\\n\\n           0       0.95      0.94      0.95     27373\\n           1       0.50      0.56      0.53      2850\\n\\n    accuracy                           0.91     30223\\n   macro avg       0.73      0.75      0.74     30223\\nweighted avg       0.91      0.91      0.91     30223\\n'}\n",
      "\n",
      "Gradient Boosting Model Results:\n",
      "{'model': GradientBoostingClassifier(), 'training_time': 50.71985197067261, 'roc_auc': np.float64(0.7743369026079611), 'report': '              precision    recall  f1-score   support\\n\\n           0       0.95      1.00      0.98     27373\\n           1       1.00      0.54      0.70      2850\\n\\n    accuracy                           0.96     30223\\n   macro avg       0.98      0.77      0.84     30223\\nweighted avg       0.96      0.96      0.95     30223\\n'}\n"
     ]
    }
   ],
   "source": [
    "# # Import necessary functions\n",
    "# from fraud_detection.model_training import train_logistic_regression, train_decision_tree, train_random_forest, train_gradient_boosting\n",
    "\n",
    "\n",
    "decision_tree_model_path = '../models/decision_tree_model.pkl'\n",
    "\n",
    "gradient_boosting_model_path = '../models/gradient_boosting_model.pkl'\n",
    "\n",
    "\n",
    "# Train and save the Decision Tree model\n",
    "decision_tree_results = train_decision_tree(X_train, X_test, y_train, y_test, decision_tree_model_path)\n",
    "\n",
    "\n",
    "# Train and save the Gradient Boosting model\n",
    "gradient_boosting_results = train_gradient_boosting(X_train, X_test, y_train, y_test, gradient_boosting_model_path)\n",
    "\n",
    "# Display results for all models\n",
    "\n",
    "print(\"\\nDecision Tree Model Results:\")\n",
    "print(decision_tree_results)\n",
    "\n",
    "print(\"\\nGradient Boosting Model Results:\")\n",
    "print(gradient_boosting_results)\n"
   ]
  },
  {
   "cell_type": "code",
   "execution_count": 7,
   "metadata": {},
   "outputs": [
    {
     "name": "stderr",
     "output_type": "stream",
     "text": [
      "2024-11-15 16:43:38,507 - root - ERROR - Error during evaluation: 'dict' object has no attribute 'predict'\n",
      "2024-11-15 16:43:38,507 - root - ERROR - Error during evaluation: 'dict' object has no attribute 'predict'\n"
     ]
    },
    {
     "ename": "AttributeError",
     "evalue": "'dict' object has no attribute 'predict'",
     "output_type": "error",
     "traceback": [
      "\u001b[1;31m---------------------------------------------------------------------------\u001b[0m",
      "\u001b[1;31mAttributeError\u001b[0m                            Traceback (most recent call last)",
      "Cell \u001b[1;32mIn[7], line 2\u001b[0m\n\u001b[0;32m      1\u001b[0m \u001b[38;5;66;03m# Evaluate all models\u001b[39;00m\n\u001b[1;32m----> 2\u001b[0m logistic_evaluation \u001b[38;5;241m=\u001b[39m \u001b[43mevaluate_model\u001b[49m\u001b[43m(\u001b[49m\u001b[43mlogistic_results\u001b[49m\u001b[43m,\u001b[49m\u001b[43m \u001b[49m\u001b[43mX_test\u001b[49m\u001b[43m,\u001b[49m\u001b[43m \u001b[49m\u001b[43my_test\u001b[49m\u001b[43m)\u001b[49m\n\u001b[0;32m      3\u001b[0m decision_tree_evaluation \u001b[38;5;241m=\u001b[39m evaluate_model(decision_tree_results, X_test, y_test)\n\u001b[0;32m      4\u001b[0m random_forest_evaluation \u001b[38;5;241m=\u001b[39m evaluate_model(random_forest_results, X_test, y_test)\n",
      "File \u001b[1;32mc:\\Users\\Akram 1\\Desktop\\New folder (2)\\fraud-detection-for-e-commercand-bank-transactions\\notebooks\\../fraud_detection\\model_evaluation.py:11\u001b[0m, in \u001b[0;36mevaluate_model\u001b[1;34m(model, X_test, y_test)\u001b[0m\n\u001b[0;32m      8\u001b[0m \u001b[38;5;250m\u001b[39m\u001b[38;5;124;03m\"\"\"Evaluate a model using multiple metrics.\"\"\"\u001b[39;00m\n\u001b[0;32m      9\u001b[0m \u001b[38;5;28;01mtry\u001b[39;00m:\n\u001b[0;32m     10\u001b[0m     \u001b[38;5;66;03m# Make predictions on the test set\u001b[39;00m\n\u001b[1;32m---> 11\u001b[0m     y_pred \u001b[38;5;241m=\u001b[39m \u001b[43mmodel\u001b[49m\u001b[38;5;241;43m.\u001b[39;49m\u001b[43mpredict\u001b[49m(X_test)\n\u001b[0;32m     13\u001b[0m     \u001b[38;5;66;03m# Calculate evaluation metrics\u001b[39;00m\n\u001b[0;32m     14\u001b[0m     accuracy \u001b[38;5;241m=\u001b[39m accuracy_score(y_test, y_pred)\n",
      "\u001b[1;31mAttributeError\u001b[0m: 'dict' object has no attribute 'predict'"
     ]
    }
   ],
   "source": [
    "# Evaluate all models\n",
    "logistic_evaluation = evaluate_model(logistic_results, X_test, y_test)\n",
    "decision_tree_evaluation = evaluate_model(decision_tree_results, X_test, y_test)\n",
    "random_forest_evaluation = evaluate_model(random_forest_results, X_test, y_test)\n",
    "gradient_boosting_evaluation = evaluate_model(gradient_boosting_results, X_test, y_test)\n",
    "\n",
    "# Display results for all models\n",
    "print(\"Logistic Regression Model Evaluation:\")\n",
    "print(logistic_evaluation)\n",
    "\n",
    "print(\"\\nDecision Tree Model Evaluation:\")\n",
    "print(decision_tree_evaluation)\n",
    "\n",
    "print(\"\\nRandom Forest Model Evaluation:\")\n",
    "print(random_forest_evaluation)\n",
    "\n",
    "print(\"\\nGradient Boosting Model Evaluation:\")\n",
    "print(gradient_boosting_evaluation)"
   ]
  },
  {
   "cell_type": "code",
   "execution_count": null,
   "metadata": {},
   "outputs": [],
   "source": []
  }
 ],
 "metadata": {
  "kernelspec": {
   "display_name": "myvenv",
   "language": "python",
   "name": "python3"
  },
  "language_info": {
   "codemirror_mode": {
    "name": "ipython",
    "version": 3
   },
   "file_extension": ".py",
   "mimetype": "text/x-python",
   "name": "python",
   "nbconvert_exporter": "python",
   "pygments_lexer": "ipython3",
   "version": "3.12.3"
  }
 },
 "nbformat": 4,
 "nbformat_minor": 2
}
